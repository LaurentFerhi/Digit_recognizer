{
 "cells": [
  {
   "cell_type": "markdown",
   "metadata": {},
   "source": [
    "# Digit recognizer with pytorch\n",
    "https://www.kaggle.com/c/digit-recognizer/data"
   ]
  },
  {
   "cell_type": "code",
   "execution_count": 1,
   "metadata": {},
   "outputs": [],
   "source": [
    "import numpy as np\n",
    "import pandas as pd\n",
    "import matplotlib.pyplot as plt\n",
    "import seaborn as sns\n",
    "from time import time\n",
    "\n",
    "%matplotlib inline\n",
    "sns.set()\n",
    "\n",
    "from sklearn.model_selection import train_test_split\n",
    "from sklearn.metrics import classification_report\n",
    "from sklearn.metrics import confusion_matrix\n",
    "\n",
    "import torch\n",
    "import torch.nn as nn\n",
    "from torch.autograd import Variable\n",
    "from torch.utils.data import DataLoader"
   ]
  },
  {
   "cell_type": "markdown",
   "metadata": {},
   "source": [
    "## Import training data"
   ]
  },
  {
   "cell_type": "code",
   "execution_count": 2,
   "metadata": {},
   "outputs": [
    {
     "data": {
      "text/plain": [
       "(42000, 785)"
      ]
     },
     "execution_count": 2,
     "metadata": {},
     "output_type": "execute_result"
    }
   ],
   "source": [
    "df_train = pd.read_csv('train.csv',dtype = np.float32)\n",
    "df_train.shape"
   ]
  },
  {
   "cell_type": "code",
   "execution_count": 3,
   "metadata": {},
   "outputs": [
    {
     "name": "stdout",
     "output_type": "stream",
     "text": [
      "<class 'pandas.core.frame.DataFrame'>\n",
      "RangeIndex: 42000 entries, 0 to 41999\n",
      "Columns: 785 entries, label to pixel783\n",
      "dtypes: float32(785)\n",
      "memory usage: 125.8 MB\n"
     ]
    }
   ],
   "source": [
    "df_train.info()"
   ]
  },
  {
   "cell_type": "code",
   "execution_count": 4,
   "metadata": {},
   "outputs": [
    {
     "data": {
      "text/plain": [
       "(42000, 784)"
      ]
     },
     "execution_count": 4,
     "metadata": {},
     "output_type": "execute_result"
    }
   ],
   "source": [
    "X_numpy = df_train.loc[:,df_train.columns != \"label\"].values/255\n",
    "X_numpy.shape"
   ]
  },
  {
   "cell_type": "code",
   "execution_count": 5,
   "metadata": {},
   "outputs": [
    {
     "data": {
      "text/plain": [
       "(42000,)"
      ]
     },
     "execution_count": 5,
     "metadata": {},
     "output_type": "execute_result"
    }
   ],
   "source": [
    "y_numpy = df_train.label.values\n",
    "y_numpy.shape"
   ]
  },
  {
   "cell_type": "code",
   "execution_count": 6,
   "metadata": {},
   "outputs": [
    {
     "data": {
      "image/png": "[encoded data removed]",
      "text/plain": [
       "<Figure size 864x288 with 20 Axes>"
      ]
     },
     "metadata": {},
     "output_type": "display_data"
    }
   ],
   "source": [
    "# plot the images in the batch, along with the corresponding labels\n",
    "fig = plt.figure(figsize=(12, 4))\n",
    "plt.gray() \n",
    "# display 20 images\n",
    "for idx in np.arange(20):\n",
    "    ax = fig.add_subplot(2, 20/2, idx+1, xticks=[], yticks=[])\n",
    "    ax.imshow(X_numpy[idx].reshape(28,28)) \n",
    "    ax.set_title(int(y_numpy[idx]))\n",
    "    ax.axis('off')"
   ]
  },
  {
   "cell_type": "markdown",
   "metadata": {},
   "source": [
    "## Generate train and test data loaders"
   ]
  },
  {
   "cell_type": "code",
   "execution_count": 8,
   "metadata": {},
   "outputs": [],
   "source": [
    "# Train / test split\n",
    "X_train, X_test, y_train, y_test = train_test_split(X_numpy, y_numpy, test_size = 0.2, random_state = 42)"
   ]
  },
  {
   "cell_type": "code",
   "execution_count": 9,
   "metadata": {},
   "outputs": [
    {
     "name": "stdout",
     "output_type": "stream",
     "text": [
      "Number of epochs: 44\n"
     ]
    }
   ],
   "source": [
    "# batch_size, epoch and iteration\n",
    "batch_size = 100\n",
    "n_iters = 15000\n",
    "num_epochs = int(n_iters / (len(X_train) / batch_size))\n",
    "print('Number of epochs: {}'.format(num_epochs))"
   ]
  },
  {
   "cell_type": "code",
   "execution_count": 10,
   "metadata": {},
   "outputs": [],
   "source": [
    "# numpy to torch tensors\n",
    "X_train_tensor = torch.from_numpy(X_train)\n",
    "y_train_tensor = torch.from_numpy(y_train).type(torch.LongTensor)\n",
    "\n",
    "X_test_tensor = torch.from_numpy(X_test)\n",
    "y_test_tensor = torch.from_numpy(y_test).type(torch.LongTensor)\n",
    "\n",
    "# Pytorch train and test sets\n",
    "train = torch.utils.data.TensorDataset(X_train_tensor,y_train_tensor)\n",
    "test = torch.utils.data.TensorDataset(X_test_tensor,y_test_tensor)\n",
    "\n",
    "# data loader\n",
    "train_loader = DataLoader(train, batch_size = batch_size, shuffle = False)\n",
    "test_loader = DataLoader(test, batch_size = batch_size, shuffle = False)"
   ]
  },
  {
   "cell_type": "markdown",
   "metadata": {},
   "source": [
    "## Create neural net"
   ]
  },
  {
   "cell_type": "code",
   "execution_count": 11,
   "metadata": {},
   "outputs": [],
   "source": [
    "# instantiate neural net\n",
    "input_dim = 784\n",
    "hidden_dim = 150 \n",
    "output_dim = 10\n",
    "\n",
    "# Create Model\n",
    "class Model_nn(nn.Module):\n",
    "    \n",
    "    def __init__(self, input_dim, hidden_dim, output_dim):\n",
    "        super(Model_nn, self).__init__()\n",
    "        # Linear function 1: 784 --> 150\n",
    "        self.fc1 = nn.Linear(input_dim, hidden_dim) \n",
    "        self.relu1 = nn.ReLU()\n",
    "        # Linear function 2: 150 --> 150\n",
    "        self.fc2 = nn.Linear(hidden_dim, hidden_dim)\n",
    "        self.tanh2 = nn.Tanh()\n",
    "        # Linear function 3: 150 --> 150\n",
    "        self.fc3 = nn.Linear(hidden_dim, hidden_dim)\n",
    "        self.elu3 = nn.ELU()   \n",
    "        # Linear function 4 (readout): 150 --> 10\n",
    "        self.fc4 = nn.Linear(hidden_dim, output_dim)  \n",
    "    \n",
    "    def forward(self, x):\n",
    "        # Linear function 1\n",
    "        out = self.fc1(x)\n",
    "        out = self.relu1(out)    \n",
    "        # Linear function 2\n",
    "        out = self.fc2(out)\n",
    "        out = self.tanh2(out) \n",
    "        # Linear function 2\n",
    "        out = self.fc3(out)\n",
    "        out = self.elu3(out)        \n",
    "        # Linear function 4\n",
    "        out = self.fc4(out)\n",
    "        return out\n",
    "\n",
    "# Create Neural Net\n",
    "model = Model_nn(input_dim, hidden_dim, output_dim)\n",
    "\n",
    "# Cross Entropy Loss \n",
    "error = nn.CrossEntropyLoss()\n",
    "\n",
    "# SGD Optimizer\n",
    "learning_rate = 0.02\n",
    "optimizer = torch.optim.SGD(model.parameters(), lr=learning_rate)"
   ]
  },
  {
   "cell_type": "markdown",
   "metadata": {},
   "source": [
    "## Train neural net"
   ]
  },
  {
   "cell_type": "code",
   "execution_count": 12,
   "metadata": {},
   "outputs": [
    {
     "name": "stdout",
     "output_type": "stream",
     "text": [
      "Epoch: 1/44\tTime: 5.85s\tLoss: 1.3138\tAccuracy: 66.30 %\tmodel_saved\n",
      "Epoch: 2/44\tTime: 12.11s\tLoss: 0.4464\tAccuracy: 83.93 %\tmodel_saved\n",
      "Epoch: 3/44\tTime: 18.24s\tLoss: 0.2838\tAccuracy: 87.35 %\tmodel_saved\n",
      "Epoch: 4/44\tTime: 23.8s\tLoss: 0.2225\tAccuracy: 89.13 %\tmodel_saved\n",
      "Epoch: 5/44\tTime: 29.46s\tLoss: 0.1921\tAccuracy: 89.85 %\tmodel_saved\n",
      "Epoch: 6/44\tTime: 35.06s\tLoss: 0.1731\tAccuracy: 90.58 %\tmodel_saved\n",
      "Epoch: 7/44\tTime: 41.02s\tLoss: 0.1564\tAccuracy: 91.62 %\tmodel_saved\n",
      "Epoch: 8/44\tTime: 46.87s\tLoss: 0.1414\tAccuracy: 92.20 %\tmodel_saved\n",
      "Epoch: 9/44\tTime: 53.43s\tLoss: 0.1269\tAccuracy: 92.70 %\tmodel_saved\n",
      "Epoch: 10/44\tTime: 60.78s\tLoss: 0.1148\tAccuracy: 93.19 %\tmodel_saved\n",
      "Epoch: 11/44\tTime: 66.8s\tLoss: 0.1035\tAccuracy: 93.31 %\tmodel_saved\n",
      "Epoch: 12/44\tTime: 73.14s\tLoss: 0.0937\tAccuracy: 94.04 %\tmodel_saved\n",
      "Epoch: 13/44\tTime: 79.49s\tLoss: 0.0850\tAccuracy: 94.39 %\tmodel_saved\n",
      "Epoch: 14/44\tTime: 85.81s\tLoss: 0.0769\tAccuracy: 94.42 %\tmodel_saved\n",
      "Epoch: 15/44\tTime: 91.69s\tLoss: 0.0705\tAccuracy: 94.86 %\tmodel_saved\n",
      "Epoch: 16/44\tTime: 97.99s\tLoss: 0.0647\tAccuracy: 95.06 %\tmodel_saved\n",
      "Epoch: 17/44\tTime: 104.31s\tLoss: 0.0598\tAccuracy: 95.26 %\tmodel_saved\n",
      "Epoch: 18/44\tTime: 110.24s\tLoss: 0.0556\tAccuracy: 95.24 %\t\n",
      "Epoch: 19/44\tTime: 116.6s\tLoss: 0.0516\tAccuracy: 95.61 %\tmodel_saved\n",
      "Epoch: 20/44\tTime: 122.94s\tLoss: 0.0479\tAccuracy: 95.79 %\tmodel_saved\n",
      "Epoch: 21/44\tTime: 129.33s\tLoss: 0.0438\tAccuracy: 95.75 %\t\n",
      "Epoch: 22/44\tTime: 135.3s\tLoss: 0.0401\tAccuracy: 95.96 %\tmodel_saved\n",
      "Epoch: 23/44\tTime: 141.79s\tLoss: 0.0371\tAccuracy: 96.12 %\tmodel_saved\n",
      "Epoch: 24/44\tTime: 148.21s\tLoss: 0.0337\tAccuracy: 96.27 %\tmodel_saved\n",
      "Epoch: 25/44\tTime: 154.52s\tLoss: 0.0306\tAccuracy: 96.10 %\t\n",
      "Epoch: 26/44\tTime: 160.74s\tLoss: 0.0281\tAccuracy: 96.27 %\tmodel_saved\n",
      "Epoch: 27/44\tTime: 167.13s\tLoss: 0.0257\tAccuracy: 96.50 %\tmodel_saved\n",
      "Epoch: 28/44\tTime: 173.53s\tLoss: 0.0232\tAccuracy: 96.50 %\t\n",
      "Epoch: 29/44\tTime: 179.41s\tLoss: 0.0215\tAccuracy: 96.35 %\t\n",
      "Epoch: 30/44\tTime: 185.78s\tLoss: 0.0199\tAccuracy: 96.32 %\t\n",
      "Epoch: 31/44\tTime: 192.15s\tLoss: 0.0184\tAccuracy: 96.58 %\tmodel_saved\n",
      "Epoch: 32/44\tTime: 198.51s\tLoss: 0.0170\tAccuracy: 96.50 %\t\n",
      "Epoch: 33/44\tTime: 204.41s\tLoss: 0.0156\tAccuracy: 96.49 %\t\n",
      "Epoch: 34/44\tTime: 210.74s\tLoss: 0.0145\tAccuracy: 96.71 %\tmodel_saved\n",
      "Epoch: 35/44\tTime: 217.34s\tLoss: 0.0135\tAccuracy: 96.68 %\t\n",
      "Epoch: 36/44\tTime: 223.42s\tLoss: 0.0125\tAccuracy: 96.58 %\t\n",
      "Epoch: 37/44\tTime: 229.72s\tLoss: 0.0117\tAccuracy: 96.85 %\tmodel_saved\n",
      "Epoch: 38/44\tTime: 236.05s\tLoss: 0.0109\tAccuracy: 96.70 %\t\n",
      "Epoch: 39/44\tTime: 242.35s\tLoss: 0.0102\tAccuracy: 96.89 %\tmodel_saved\n",
      "Epoch: 40/44\tTime: 248.24s\tLoss: 0.0096\tAccuracy: 96.77 %\t\n",
      "Epoch: 41/44\tTime: 254.62s\tLoss: 0.0092\tAccuracy: 96.71 %\t\n",
      "Epoch: 42/44\tTime: 261.06s\tLoss: 0.0086\tAccuracy: 96.98 %\tmodel_saved\n",
      "Epoch: 43/44\tTime: 267.09s\tLoss: 0.0083\tAccuracy: 96.71 %\t\n",
      "Epoch: 44/44\tTime: 273.46s\tLoss: 0.0078\tAccuracy: 96.96 %\tmodel_saved\n"
     ]
    }
   ],
   "source": [
    "# model training\n",
    "count = 0\n",
    "prev_accuracy = 0\n",
    "loss_list = []\n",
    "iteration_list = []\n",
    "accuracy_list = []\n",
    "t0 = time()\n",
    "\n",
    "for epoch in range(num_epochs):\n",
    "    \n",
    "    for i, (images, labels) in enumerate(train_loader):\n",
    "        \n",
    "        train = Variable(images.view(-1, 784))\n",
    "        labels = Variable(labels)\n",
    "        \n",
    "        # Clear gradients\n",
    "        optimizer.zero_grad()\n",
    "        \n",
    "        # Forward propagation\n",
    "        outputs = model(train)\n",
    "        \n",
    "        # Calculate cross entropy loss\n",
    "        loss = error(outputs, labels)\n",
    "        \n",
    "        # Calculating gradients\n",
    "        loss.backward()\n",
    "        \n",
    "        # Update parameters\n",
    "        optimizer.step()\n",
    "        \n",
    "        # Update count\n",
    "        count += 1\n",
    "        \n",
    "        # Store accuracy and loss\n",
    "        if count % 50 == 0:\n",
    "            \n",
    "            # Calculate Accuracy         \n",
    "            correct, total = 0, 0\n",
    "\n",
    "            # Predict test dataset\n",
    "            for images, labels in test_loader:\n",
    "\n",
    "                test = Variable(images.view(-1, 784))\n",
    "                \n",
    "                # Forward propagation\n",
    "                outputs = model(test)\n",
    "                \n",
    "                # Get predictions from the max value\n",
    "                predicted = torch.max(outputs.data, 1)[1]\n",
    "                \n",
    "                # Total number of labels\n",
    "                total += len(labels)\n",
    "\n",
    "                # Total correct predictions\n",
    "                correct += (predicted == labels).sum()\n",
    "            \n",
    "            # Calculate accuracy\n",
    "            accuracy = 100 * correct / float(total)\n",
    "           \n",
    "            # store loss and iteration\n",
    "            loss_list.append(loss.data)\n",
    "            iteration_list.append(count)\n",
    "            accuracy_list.append(accuracy)\n",
    "    \n",
    "    # Save model if accuracy has improved\n",
    "    if accuracy > prev_accuracy:\n",
    "        torch.save(model.state_dict(), 'best_nn.pth')\n",
    "        save_status = 'model_saved'\n",
    "    else:\n",
    "        save_status =''\n",
    "    prev_accuracy = accuracy\n",
    "        \n",
    "    # update time\n",
    "    tx = round(time()-t0, 2)\n",
    "    \n",
    "    print('Epoch: {}/{}\\tTime: {}s\\tLoss: {:.4f}\\tAccuracy: {:.2f} %\\t{}'\\\n",
    "          .format(epoch+1, num_epochs, tx,loss.data, accuracy, save_status))"
   ]
  },
  {
   "cell_type": "code",
   "execution_count": 13,
   "metadata": {},
   "outputs": [
    {
     "data": {
      "image/png": "[encoded data removed]",
      "text/plain": [
       "<Figure size 432x288 with 1 Axes>"
      ]
     },
     "metadata": {},
     "output_type": "display_data"
    },
    {
     "data": {
      "image/png": "[encoded data removed]",
      "text/plain": [
       "<Figure size 432x288 with 1 Axes>"
      ]
     },
     "metadata": {},
     "output_type": "display_data"
    }
   ],
   "source": [
    "# visualization loss \n",
    "plt.plot(iteration_list,loss_list)\n",
    "plt.xlabel(\"Number of iteration\")\n",
    "plt.ylabel(\"Loss\")\n",
    "plt.title(\"Loss vs Number of epoch\")\n",
    "plt.show()\n",
    "\n",
    "# visualization accuracy \n",
    "plt.plot(iteration_list,accuracy_list,color = \"red\")\n",
    "plt.xlabel(\"Number of iteration\")\n",
    "plt.ylabel(\"Accuracy\")\n",
    "plt.title(\" Accuracy vs Number of epoch\")\n",
    "plt.show()"
   ]
  },
  {
   "cell_type": "code",
   "execution_count": 14,
   "metadata": {},
   "outputs": [
    {
     "name": "stdout",
     "output_type": "stream",
     "text": [
      "              precision    recall  f1-score   support\n",
      "\n",
      "           0       0.98      0.99      0.98       816\n",
      "           1       0.98      0.99      0.98       909\n",
      "           2       0.98      0.96      0.97       846\n",
      "           3       0.97      0.94      0.96       937\n",
      "           4       0.97      0.97      0.97       839\n",
      "           5       0.96      0.96      0.96       702\n",
      "           6       0.96      0.98      0.97       785\n",
      "           7       0.96      0.98      0.97       893\n",
      "           8       0.97      0.96      0.96       835\n",
      "           9       0.95      0.96      0.96       838\n",
      "\n",
      "    accuracy                           0.97      8400\n",
      "   macro avg       0.97      0.97      0.97      8400\n",
      "weighted avg       0.97      0.97      0.97      8400\n",
      "\n"
     ]
    }
   ],
   "source": [
    "# Evaluate model on full test set\n",
    "with torch.no_grad():\n",
    "    test_predictions = model(X_test_tensor)\n",
    "    _, y_test_predicted = torch.max(test_predictions.data, 1)\n",
    "    \n",
    "print(classification_report(y_test_tensor, y_test_predicted))"
   ]
  },
  {
   "cell_type": "code",
   "execution_count": 15,
   "metadata": {},
   "outputs": [
    {
     "data": {
      "text/plain": [
       "<matplotlib.axes._subplots.AxesSubplot at 0x21a881d6bc8>"
      ]
     },
     "execution_count": 15,
     "metadata": {},
     "output_type": "execute_result"
    },
    {
     "data": {
      "image/png": "[encoded data removed]",
      "text/plain": [
       "<Figure size 576x432 with 2 Axes>"
      ]
     },
     "metadata": {},
     "output_type": "display_data"
    }
   ],
   "source": [
    "# Confusion matrix\n",
    "fig, ax = plt.subplots(figsize=(8, 6))\n",
    "sns.heatmap(\n",
    "    confusion_matrix(y_test_tensor, y_test_predicted), \n",
    "    cmap='YlGnBu', \n",
    "    linewidths=.2,\n",
    "    linecolor='gray',\n",
    "    cbar_kws={\"shrink\": .8},\n",
    "    annot = True,\n",
    "    fmt='d'\n",
    ")"
   ]
  },
  {
   "cell_type": "markdown",
   "metadata": {},
   "source": [
    "## Load and test model"
   ]
  },
  {
   "cell_type": "code",
   "execution_count": 16,
   "metadata": {},
   "outputs": [
    {
     "data": {
      "text/plain": [
       "Model_nn(\n",
       "  (fc1): Linear(in_features=784, out_features=150, bias=True)\n",
       "  (relu1): ReLU()\n",
       "  (fc2): Linear(in_features=150, out_features=150, bias=True)\n",
       "  (tanh2): Tanh()\n",
       "  (fc3): Linear(in_features=150, out_features=150, bias=True)\n",
       "  (elu3): ELU(alpha=1.0)\n",
       "  (fc4): Linear(in_features=150, out_features=10, bias=True)\n",
       ")"
      ]
     },
     "execution_count": 16,
     "metadata": {},
     "output_type": "execute_result"
    }
   ],
   "source": [
    "# Load model\n",
    "loaded_model = Model_nn(input_dim, hidden_dim, output_dim)\n",
    "loaded_model.load_state_dict(torch.load('best_nn.pth'))\n",
    "loaded_model.eval()"
   ]
  },
  {
   "cell_type": "code",
   "execution_count": 17,
   "metadata": {},
   "outputs": [
    {
     "data": {
      "text/plain": [
       "(28000, 784)"
      ]
     },
     "execution_count": 17,
     "metadata": {},
     "output_type": "execute_result"
    }
   ],
   "source": [
    "# Import test data\n",
    "df_new = pd.read_csv('test.csv',dtype = np.float32)\n",
    "df_new.shape"
   ]
  },
  {
   "cell_type": "code",
   "execution_count": 18,
   "metadata": {},
   "outputs": [],
   "source": [
    "#X_new_numpy = df_new.loc[:,df_new.columns != \"label\"].values/255\n",
    "X_new_numpy = df_new.loc[:].values/255\n",
    "X_new_tensor = torch.from_numpy(X_new_numpy)"
   ]
  },
  {
   "cell_type": "code",
   "execution_count": 19,
   "metadata": {},
   "outputs": [],
   "source": [
    "with torch.no_grad():\n",
    "    result = loaded_model(X_new_tensor)\n",
    "    _, new_predicted = torch.max(result.data, 1)"
   ]
  },
  {
   "cell_type": "code",
   "execution_count": 20,
   "metadata": {},
   "outputs": [
    {
     "data": {
      "text/plain": [
       "torch.Size([28000, 10])"
      ]
     },
     "execution_count": 20,
     "metadata": {},
     "output_type": "execute_result"
    }
   ],
   "source": [
    "result.shape"
   ]
  },
  {
   "cell_type": "code",
   "execution_count": 21,
   "metadata": {},
   "outputs": [
    {
     "data": {
      "text/plain": [
       "torch.Size([28000])"
      ]
     },
     "execution_count": 21,
     "metadata": {},
     "output_type": "execute_result"
    }
   ],
   "source": [
    "new_predicted.shape"
   ]
  },
  {
   "cell_type": "code",
   "execution_count": 25,
   "metadata": {},
   "outputs": [
    {
     "data": {
      "image/png": "[encoded data removed]",
      "text/plain": [
       "<Figure size 864x288 with 20 Axes>"
      ]
     },
     "metadata": {},
     "output_type": "display_data"
    }
   ],
   "source": [
    "# plot the images in the batch, along with the corresponding labels\n",
    "fig = plt.figure(figsize=(12, 4))\n",
    "plt.gray() \n",
    "# display 20 images\n",
    "for idx, figx  in zip(np.random.randint(0, len(X_new_tensor)-1, size=20),np.arange(20)):    \n",
    "    ax = fig.add_subplot(2, 20/2, figx+1, xticks=[], yticks=[])\n",
    "    ax.imshow(X_new_numpy[idx].reshape(28,28)) \n",
    "    ax.set_title(new_predicted[idx].numpy())\n",
    "    ax.axis('off')"
   ]
  },
  {
   "cell_type": "code",
   "execution_count": null,
   "metadata": {},
   "outputs": [],
   "source": []
  }
 ],
 "metadata": {
  "kernelspec": {
   "display_name": "Python 3",
   "language": "python",
   "name": "python3"
  },
  "language_info": {
   "codemirror_mode": {
    "name": "ipython",
    "version": 3
   },
   "file_extension": ".py",
   "mimetype": "text/x-python",
   "name": "python",
   "nbconvert_exporter": "python",
   "pygments_lexer": "ipython3",
   "version": "3.7.6"
  }
 },
 "nbformat": 4,
 "nbformat_minor": 4
}
